{
 "cells": [
  {
   "cell_type": "markdown",
   "metadata": {
    "collapsed": true
   },
   "source": [
    "This example is based off of the basic examples in the documentation. Changed\n",
    "so that it actually writes new images and has ways to control and keep\n",
    "track of how many. "
   ]
  },
  {
   "cell_type": "code",
   "execution_count": null,
   "metadata": {},
   "outputs": [],
   "source": [
    "from imgaug import augmenters as iaa\n",
    "import cv2"
   ]
  },
  {
   "cell_type": "markdown",
   "metadata": {},
   "source": []
  },
  {
   "cell_type": "code",
   "execution_count": null,
   "metadata": {},
   "outputs": [],
   "source": [
    "# Define the sequence of filters to apply to the image set\n",
    "seq = iaa.Sequential([\n",
    "\tiaa.Fliplr(0.5),  # horizontal flips\n",
    "\tiaa.Crop(percent=(0, 0.1)),  # random crops\n",
    "\n",
    "\t# Small gaussian blur with random sigma between 0 and 0.5.\n",
    "\t# But we only blur about 50% of all images.\n",
    "\tiaa.Sometimes(0.5, iaa.GaussianBlur(sigma=(0, 0.5))),\n",
    "\n",
    "\t# Strengthen or weaken the contrast in each image.\n",
    "\tiaa.ContrastNormalization((0.75, 1.5)),\n",
    "\n",
    "\t# Add gaussian noise.\n",
    "\t# For 50% of all images, we sample the noise once per pixel.\n",
    "\t# For the other 50% of all images, we sample the noise per pixel AND\n",
    "\t# channel. This can change the color (not only brightness) of the\n",
    "\t# pixels.\n",
    "\tiaa.AdditiveGaussianNoise(loc=0, scale=(0.0, 0.05 * 255), per_channel=0.5),\n",
    "\n",
    "\t# Make some images brighter and some darker.\n",
    "\t# In 20% of all cases, we sample the multiplier once per channel,\n",
    "\t# which can end up changing the color of the images.\n",
    "\tiaa.Multiply((0.8, 1.2), per_channel=0.2),\n",
    "\n",
    "\t# Apply affine transformations to each image.\n",
    "\t# Scale/zoom them, translate/move them, rotate them and shear them.\n",
    "\tiaa.Affine(\n",
    "\t\tscale={\"x\": (0.8, 1.2), \"y\": (0.8, 1.2)},\n",
    "\t\ttranslate_percent={\"x\": (-0.2, 0.2), \"y\": (-0.2, 0.2)},\n",
    "\t\trotate=(-25, 25),\n",
    "\t\tshear=(-8, 8)\n",
    "\t)\n",
    "], random_order=True)  # apply augmenters in random order"
   ]
  }
 ],
 "metadata": {
  "kernelspec": {
   "display_name": "Python 2",
   "language": "python",
   "name": "python2"
  },
  "language_info": {
   "codemirror_mode": {
    "name": "ipython",
    "version": 2
   },
   "file_extension": ".py",
   "mimetype": "text/x-python",
   "name": "python",
   "nbconvert_exporter": "python",
   "pygments_lexer": "ipython2",
   "version": "2.7.6"
  }
 },
 "nbformat": 4,
 "nbformat_minor": 0
}
